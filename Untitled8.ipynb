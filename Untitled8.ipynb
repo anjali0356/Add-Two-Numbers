{
  "nbformat": 4,
  "nbformat_minor": 0,
  "metadata": {
    "colab": {
      "provenance": [],
      "authorship_tag": "ABX9TyPcSRwXipYEeCif0CUXvLCW",
      "include_colab_link": true
    },
    "kernelspec": {
      "name": "python3",
      "display_name": "Python 3"
    },
    "language_info": {
      "name": "python"
    }
  },
  "cells": [
    {
      "cell_type": "markdown",
      "metadata": {
        "id": "view-in-github",
        "colab_type": "text"
      },
      "source": [
        "<a href=\"https://colab.research.google.com/github/anjali0356/Add-Two-Numbers/blob/main/Untitled8.ipynb\" target=\"_parent\"><img src=\"https://colab.research.google.com/assets/colab-badge.svg\" alt=\"Open In Colab\"/></a>"
      ]
    },
    {
      "cell_type": "code",
      "execution_count": 2,
      "metadata": {
        "colab": {
          "base_uri": "https://localhost:8080/",
          "height": 384
        },
        "id": "hYDKnLD5zH40",
        "outputId": "27a08210-c314-4fd0-d36f-ce1c7ead37e5"
      },
      "outputs": [
        {
          "output_type": "error",
          "ename": "ModuleNotFoundError",
          "evalue": "No module named 'skfuzzy'",
          "traceback": [
            "\u001b[0;31m---------------------------------------------------------------------------\u001b[0m",
            "\u001b[0;31mModuleNotFoundError\u001b[0m                       Traceback (most recent call last)",
            "\u001b[0;32m<ipython-input-2-28a066545554>\u001b[0m in \u001b[0;36m<cell line: 2>\u001b[0;34m()\u001b[0m\n\u001b[1;32m      1\u001b[0m \u001b[0;32mimport\u001b[0m \u001b[0mnumpy\u001b[0m \u001b[0;32mas\u001b[0m \u001b[0mnp\u001b[0m\u001b[0;34m\u001b[0m\u001b[0;34m\u001b[0m\u001b[0m\n\u001b[0;32m----> 2\u001b[0;31m \u001b[0;32mfrom\u001b[0m \u001b[0mskfuzzy\u001b[0m \u001b[0;32mimport\u001b[0m \u001b[0mcontrol\u001b[0m \u001b[0;32mas\u001b[0m \u001b[0mctrl\u001b[0m\u001b[0;34m\u001b[0m\u001b[0;34m\u001b[0m\u001b[0m\n\u001b[0m\u001b[1;32m      3\u001b[0m \u001b[0;34m\u001b[0m\u001b[0m\n\u001b[1;32m      4\u001b[0m \u001b[0;31m# Define input variables\u001b[0m\u001b[0;34m\u001b[0m\u001b[0;34m\u001b[0m\u001b[0m\n\u001b[1;32m      5\u001b[0m \u001b[0mtemperature\u001b[0m \u001b[0;34m=\u001b[0m \u001b[0mctrl\u001b[0m\u001b[0;34m.\u001b[0m\u001b[0mAntecedent\u001b[0m\u001b[0;34m(\u001b[0m\u001b[0mnp\u001b[0m\u001b[0;34m.\u001b[0m\u001b[0marange\u001b[0m\u001b[0;34m(\u001b[0m\u001b[0;36m0\u001b[0m\u001b[0;34m,\u001b[0m \u001b[0;36m101\u001b[0m\u001b[0;34m,\u001b[0m \u001b[0;36m1\u001b[0m\u001b[0;34m)\u001b[0m\u001b[0;34m,\u001b[0m \u001b[0;34m'temperature'\u001b[0m\u001b[0;34m)\u001b[0m\u001b[0;34m\u001b[0m\u001b[0;34m\u001b[0m\u001b[0m\n",
            "\u001b[0;31mModuleNotFoundError\u001b[0m: No module named 'skfuzzy'",
            "",
            "\u001b[0;31m---------------------------------------------------------------------------\u001b[0;32m\nNOTE: If your import is failing due to a missing package, you can\nmanually install dependencies using either !pip or !apt.\n\nTo view examples of installing some common dependencies, click the\n\"Open Examples\" button below.\n\u001b[0;31m---------------------------------------------------------------------------\u001b[0m\n"
          ],
          "errorDetails": {
            "actions": [
              {
                "action": "open_url",
                "actionText": "Open Examples",
                "url": "/notebooks/snippets/importing_libraries.ipynb"
              }
            ]
          }
        }
      ],
      "source": [
        "import numpy as np\n",
        "from skfuzzy import control as ctrl\n",
        "\n",
        "# Define input variables\n",
        "temperature = ctrl.Antecedent(np.arange(0, 101, 1), 'temperature')\n",
        "humidity = ctrl.Antecedent(np.arange(0, 101, 1), 'humidity')\n",
        "\n",
        "# Define output variable\n",
        "fan_speed = ctrl.Consequent(np.arange(0, 101, 1), 'fan_speed')\n",
        "\n",
        "# Define membership functions\n",
        "temperature['low'] = fuzz.trimf(temperature.universe, [0, 0, 50])\n",
        "temperature['medium'] = fuzz.trimf(temperature.universe, [0, 50, 100])\n",
        "temperature['high'] = fuzz.trimf(temperature.universe, [50, 100, 100])\n",
        "\n",
        "humidity['low'] = fuzz.trimf(humidity.universe, [0, 0, 50])\n",
        "humidity['medium'] = fuzz.trimf(humidity.universe, [0, 50, 100])\n",
        "humidity['high'] = fuzz.trimf(humidity.universe, [50, 100, 100])\n",
        "\n",
        "fan_speed['low'] = fuzz.trimf(fan_speed.universe, [0, 0, 50])\n",
        "fan_speed['medium'] = fuzz.trimf(fan_speed.universe, [0, 50, 100])\n",
        "fan_speed['high'] = fuzz.trimf(fan_speed.universe, [50, 100, 100])\n",
        "\n",
        "# Define rules\n",
        "rule1 = ctrl.Rule(temperature['low'] & humidity['low'], fan_speed['low'])\n",
        "rule2 = ctrl.Rule(temperature['medium'] | humidity['medium'], fan_speed['medium'])\n",
        "rule3 = ctrl.Rule(temperature['high'] & humidity['high'], fan_speed['high'])\n",
        "\n",
        "# Create control system\n",
        "fan_ctrl = ctrl.ControlSystem([rule1, rule2, rule3])\n",
        "fan_speed_ctrl = ctrl.ControlSystemSimulation(fan_ctrl)\n",
        "\n",
        "# Input values\n",
        "fan_speed_ctrl.input['temperature'] = 80\n",
        "fan_speed_ctrl.input['humidity'] = 20\n",
        "\n",
        "# Compute\n",
        "fan_speed_ctrl.compute()\n",
        "\n",
        "# Output\n",
        "print(\"Fan speed:\", fan_speed_ctrl.output['fan_speed'])\n",
        "fan_speed.view(sim=fan_speed_ctrl)\n"
      ]
    },
    {
      "cell_type": "code",
      "source": [],
      "metadata": {
        "colab": {
          "base_uri": "https://localhost:8080/",
          "height": 384
        },
        "id": "EdV7DFDuzYzS",
        "outputId": "3ffa7b67-5f88-4e19-95f2-be04e80b6645"
      },
      "execution_count": 3,
      "outputs": [
        {
          "output_type": "error",
          "ename": "ModuleNotFoundError",
          "evalue": "No module named 'skfuzzy'",
          "traceback": [
            "\u001b[0;31m---------------------------------------------------------------------------\u001b[0m",
            "\u001b[0;31mModuleNotFoundError\u001b[0m                       Traceback (most recent call last)",
            "\u001b[0;32m<ipython-input-3-763acb69e7f8>\u001b[0m in \u001b[0;36m<cell line: 2>\u001b[0;34m()\u001b[0m\n\u001b[1;32m      1\u001b[0m \u001b[0;32mimport\u001b[0m \u001b[0mnumpy\u001b[0m \u001b[0;32mas\u001b[0m \u001b[0mnp\u001b[0m\u001b[0;34m\u001b[0m\u001b[0;34m\u001b[0m\u001b[0m\n\u001b[0;32m----> 2\u001b[0;31m \u001b[0;32mimport\u001b[0m \u001b[0mskfuzzy\u001b[0m \u001b[0;32mas\u001b[0m \u001b[0mfuzz\u001b[0m\u001b[0;34m\u001b[0m\u001b[0;34m\u001b[0m\u001b[0m\n\u001b[0m\u001b[1;32m      3\u001b[0m \u001b[0;32mfrom\u001b[0m \u001b[0mskfuzzy\u001b[0m \u001b[0;32mimport\u001b[0m \u001b[0mcontrol\u001b[0m \u001b[0;32mas\u001b[0m \u001b[0mctrl\u001b[0m\u001b[0;34m\u001b[0m\u001b[0;34m\u001b[0m\u001b[0m\n\u001b[1;32m      4\u001b[0m \u001b[0;34m\u001b[0m\u001b[0m\n\u001b[1;32m      5\u001b[0m \u001b[0;31m# Define input variables\u001b[0m\u001b[0;34m\u001b[0m\u001b[0;34m\u001b[0m\u001b[0m\n",
            "\u001b[0;31mModuleNotFoundError\u001b[0m: No module named 'skfuzzy'",
            "",
            "\u001b[0;31m---------------------------------------------------------------------------\u001b[0;32m\nNOTE: If your import is failing due to a missing package, you can\nmanually install dependencies using either !pip or !apt.\n\nTo view examples of installing some common dependencies, click the\n\"Open Examples\" button below.\n\u001b[0;31m---------------------------------------------------------------------------\u001b[0m\n"
          ],
          "errorDetails": {
            "actions": [
              {
                "action": "open_url",
                "actionText": "Open Examples",
                "url": "/notebooks/snippets/importing_libraries.ipynb"
              }
            ]
          }
        }
      ]
    },
    {
      "cell_type": "code",
      "source": [],
      "metadata": {
        "id": "3Nm0DKal-QEV"
      },
      "execution_count": null,
      "outputs": []
    },
    {
      "cell_type": "markdown",
      "source": [],
      "metadata": {
        "id": "2AIxpGdS10Lj"
      }
    },
    {
      "cell_type": "code",
      "source": [
        "import numpy as np\n",
        "class MPitsNeuron:\n",
        "    def __init__(self, input_size, learning_rate=0.01, m=1):\n",
        "        self.weights = np.random.rand(input_size)  # Initialize weights randomly\n",
        "        self.bias = np.random.rand(1)              # Initialize bias randomly\n",
        "        self.learning_rate = learning_rate\n",
        "        self.m = m\n",
        "    def activate(self, x):\n",
        "        return np.maximum(0, x) ** self.m          # M-Pits activation function\n",
        "    def forward_propagation(self, inputs):\n",
        "        z = np.dot(inputs, self.weights) + self.bias\n",
        "        return self.activate(z)\n",
        "    def backward_propagation(self, inputs, output, expected_output):\n",
        "        error = output - expected_output\n",
        "        derivative = np.where(inputs > 0, self.m * (inputs ** (self.m - 1)), 0)  # Derivative of M-Pits function\n",
        "        gradient = error * derivative\n",
        "        self.weights -= self.learning_rate * gradient * inputs\n",
        "        self.bias -= self.learning_rate * error\n",
        "    def train(self, inputs, expected_outputs, epochs):\n",
        "        for epoch in range(epochs):\n",
        "            for i in range(len(inputs)):\n",
        "                output = self.forward_propagation(inputs[i])\n",
        "                self.backward_propagation(inputs[i], output, expected_outputs[i])\n",
        "    def predict(self, inputs):\n",
        "        return self.forward_propagation(inputs)\n",
        "\n",
        "\n",
        "\n",
        "\n",
        "\n",
        "\n",
        "\n"
      ],
      "metadata": {
        "id": "dOcJBvJv104N"
      },
      "execution_count": 8,
      "outputs": []
    },
    {
      "cell_type": "code",
      "source": [],
      "metadata": {
        "id": "9eoQBRAW_a8z"
      },
      "execution_count": null,
      "outputs": []
    },
    {
      "cell_type": "code",
      "source": [],
      "metadata": {
        "colab": {
          "base_uri": "https://localhost:8080/",
          "height": 106
        },
        "id": "fJ9T4lJB_dYX",
        "outputId": "5e8f4534-5fa0-447a-9b3a-6605b92a3544"
      },
      "execution_count": 11,
      "outputs": [
        {
          "output_type": "error",
          "ename": "SyntaxError",
          "evalue": "invalid non-printable character U+F0B7 (<ipython-input-11-a950046ca604>, line 1)",
          "traceback": [
            "\u001b[0;36m  File \u001b[0;32m\"<ipython-input-11-a950046ca604>\"\u001b[0;36m, line \u001b[0;32m1\u001b[0m\n\u001b[0;31m    import numpy as np\u001b[0m\n\u001b[0m    ^\u001b[0m\n\u001b[0;31mSyntaxError\u001b[0m\u001b[0;31m:\u001b[0m invalid non-printable character U+F0B7\n"
          ]
        }
      ]
    },
    {
      "cell_type": "code",
      "source": [],
      "metadata": {
        "id": "pAe7zLSZAC8f"
      },
      "execution_count": null,
      "outputs": []
    },
    {
      "cell_type": "code",
      "source": [
        "import numpy as np\n",
        "\n",
        "class NeuralNetwork:\n",
        "    def __init__(self, input_size, hidden_size, output_size):\n",
        "        self.input_size = input_size\n",
        "        self.hidden_size = hidden_size\n",
        "        self.output_size = output_size\n",
        "\n",
        "        # Initialize weights and biases\n",
        "        self.weights_input_hidden = np.random.randn(self.input_size, self.hidden_size)\n",
        "        self.bias_input_hidden = np.random.randn(1, self.hidden_size)\n",
        "        self.weights_hidden_output = np.random.randn(self.hidden_size, self.output_size)\n",
        "        self.bias_hidden_output = np.random.randn(1, self.output_size)\n",
        "\n",
        "    def sigmoid(self, x):\n",
        "        return 1 / (1 + np.exp(-x))\n",
        "\n",
        "    def sigmoid_derivative(self, x):\n",
        "        return x * (1 - x)\n",
        "\n",
        "    def forward(self, X):\n",
        "        # Input to hidden layer\n",
        "        self.hidden_output = self.sigmoid(np.dot(X, self.weights_input_hidden) + self.bias_input_hidden)\n",
        "        # Hidden to output layer\n",
        "        self.output = self.sigmoid(np.dot(self.hidden_output, self.weights_hidden_output) + self.bias_hidden_output)\n",
        "        return self.output\n",
        "\n",
        "    def backward(self, X, y, learning_rate):\n",
        "        # Calculate output layer error\n",
        "        output_error = y - self.output\n",
        "        output_delta = output_error * self.sigmoid_derivative(self.output)\n",
        "\n",
        "        # Calculate hidden layer error\n",
        "        hidden_error = np.dot(output_delta, self.weights_hidden_output.T)\n",
        "        hidden_delta = hidden_error * self.sigmoid_derivative(self.hidden_output)\n",
        "\n",
        "        # Update weights and biases\n",
        "        self.weights_hidden_output += np.dot(self.hidden_output.T, output_delta) * learning_rate\n",
        "        self.bias_hidden_output += np.sum(output_delta, axis=0, keepdims=True) * learning_rate\n",
        "        self.weights_input_hidden += np.dot(X.T, hidden_delta) * learning_rate\n",
        "        self.bias_input_hidden += np.sum(hidden_delta, axis=0, keepdims=True) * learning_rate\n",
        "\n",
        "    def train(self, X, y, epochs, learning_rate):\n",
        "        for epoch in range(epochs):\n",
        "            output = self.forward(X)\n",
        "            self.backward(X, y, learning_rate)\n",
        "            if epoch % 1000 == 0:\n",
        "                loss = np.mean(np.square(y - output))\n",
        "                print(f\"Epoch {epoch}, Loss: {loss}\")\n",
        "\n",
        "# Example usage:\n",
        "# Define input dataset\n",
        "X = np.array([[0, 0],\n",
        "              [0, 1],\n",
        "              [1, 0],\n",
        "              [1, 1]])\n",
        "\n",
        "# Define output dataset\n",
        "y = np.array([[0], [1], [1], [0]])\n",
        "\n",
        "# Initialize neural network\n",
        "nn = NeuralNetwork(input_size=2, hidden_size=4, output_size=1)\n",
        "\n",
        "# Train the neural network\n",
        "nn.train(X, y, epochs=10000, learning_rate=0.1)\n",
        "\n",
        "# Test the neural network\n",
        "test_input = np.array([[0, 0], [0, 1], [1, 0], [1, 1]])\n",
        "predicted_output = nn.forward(test_input)\n",
        "print(\"Predicted Output:\")\n",
        "print(predicted_output)\n"
      ],
      "metadata": {
        "colab": {
          "base_uri": "https://localhost:8080/"
        },
        "id": "SuYdeNop2urn",
        "outputId": "30369d51-0f98-49e9-d0b5-a1e5b11ae4ab"
      },
      "execution_count": 4,
      "outputs": [
        {
          "output_type": "stream",
          "name": "stdout",
          "text": [
            "Epoch 0, Loss: 0.25434128821942226\n",
            "Epoch 1000, Loss: 0.1707359297246272\n",
            "Epoch 2000, Loss: 0.07370212870222592\n",
            "Epoch 3000, Loss: 0.025801788624076616\n",
            "Epoch 4000, Loss: 0.012435976975410701\n",
            "Epoch 5000, Loss: 0.007536069586436078\n",
            "Epoch 6000, Loss: 0.005208317502541157\n",
            "Epoch 7000, Loss: 0.0039012042026077406\n",
            "Epoch 8000, Loss: 0.0030816951149335264\n",
            "Epoch 9000, Loss: 0.0025269715393288505\n",
            "Predicted Output:\n",
            "[[0.03784719]\n",
            " [0.96297206]\n",
            " [0.95062014]\n",
            " [0.05725154]]\n"
          ]
        }
      ]
    },
    {
      "cell_type": "code",
      "source": [
        "import numpy as np\n",
        "\n",
        "class HeteroassociativeMemory:\n",
        "    def __init__(self, input_size, output_size):\n",
        "        self.input_size = input_size\n",
        "        self.output_size = output_size\n",
        "        self.weights = np.zeros((input_size, output_size))\n",
        "\n",
        "    def train(self, input_patterns, output_patterns):\n",
        "        for input_pattern, output_pattern in zip(input_patterns, output_patterns):\n",
        "            self.weights += np.outer(input_pattern, output_pattern)\n",
        "\n",
        "    def recall(self, input_pattern):\n",
        "        output_pattern = np.dot(input_pattern, self.weights)\n",
        "        return np.sign(output_pattern)\n",
        "\n",
        "# Example usage:\n",
        "# Define input and output patterns\n",
        "input_patterns = np.array([[1, -1, 1],\n",
        "                            [1, 1, -1]])\n",
        "\n",
        "output_patterns = np.array([[1, -1],\n",
        "                             [-1, 1]])\n",
        "\n",
        "# Initialize heteroassociative memory\n",
        "memory = HeteroassociativeMemory(input_size=input_patterns.shape[1], output_size=output_patterns.shape[1])\n",
        "\n",
        "# Train the memory\n",
        "memory.train(input_patterns, output_patterns)\n",
        "\n",
        "# Recall output pattern for input pattern [1, -1, 1]\n",
        "input_pattern = np.array([1, -1, 1])\n",
        "output_pattern = memory.recall(input_pattern)\n",
        "print(\"Input Pattern:\", input_pattern)\n",
        "print(\"Recalled Output Pattern:\", output_pattern)\n"
      ],
      "metadata": {
        "colab": {
          "base_uri": "https://localhost:8080/"
        },
        "id": "vF78YBQn3DuP",
        "outputId": "eb0e3784-9ef5-43a1-9dd5-aedfe0c4ec74"
      },
      "execution_count": 12,
      "outputs": [
        {
          "output_type": "stream",
          "name": "stdout",
          "text": [
            "Input Pattern: [ 1 -1  1]\n",
            "Recalled Output Pattern: [ 1. -1.]\n"
          ]
        }
      ]
    },
    {
      "cell_type": "code",
      "source": [],
      "metadata": {
        "id": "HbKgdpAwAFx2"
      },
      "execution_count": null,
      "outputs": []
    },
    {
      "cell_type": "code",
      "source": [
        "\n"
      ],
      "metadata": {
        "colab": {
          "base_uri": "https://localhost:8080/",
          "height": 106
        },
        "id": "3ynpGIs2AMGl",
        "outputId": "8236b1ed-d899-4d13-d067-19d8141ab197"
      },
      "execution_count": 15,
      "outputs": [
        {
          "output_type": "error",
          "ename": "SyntaxError",
          "evalue": "invalid non-printable character U+F0B7 (<ipython-input-15-7433aff2a6cd>, line 1)",
          "traceback": [
            "\u001b[0;36m  File \u001b[0;32m\"<ipython-input-15-7433aff2a6cd>\"\u001b[0;36m, line \u001b[0;32m1\u001b[0m\n\u001b[0;31m    import numpy as np\u001b[0m\n\u001b[0m    ^\u001b[0m\n\u001b[0;31mSyntaxError\u001b[0m\u001b[0;31m:\u001b[0m invalid non-printable character U+F0B7\n"
          ]
        }
      ]
    },
    {
      "cell_type": "code",
      "source": [
        "import numpy as np\n",
        "import matplotlib.pyplot as plt\n",
        "\n",
        "# Define the universe of discourse (x-axis)\n",
        "x = np.linspace(0, 10, 1000)\n",
        "\n",
        "# Triangular membership function\n",
        "def triangular_mf(x, a, b, c):\n",
        "    return np.maximum(0, np.minimum((x - a) / (b - a), (c - x) / (c - b)))\n",
        "\n",
        "# Trapezoidal membership function\n",
        "def trapezoidal_mf(x, a, b, c, d):\n",
        "    return np.maximum(0, np.minimum(np.maximum((x - a) / (b - a), 1), (d - x) / (d - c)))\n",
        "\n",
        "# Gaussian membership function\n",
        "def gaussian_mf(x, mean, std_dev):\n",
        "    return np.exp(-((x - mean) ** 2) / (2 * std_dev ** 2))\n",
        "\n",
        "# Sigmoidal membership function\n",
        "def sigmoidal_mf(x, center, width):\n",
        "    return 1 / (1 + np.exp(-width * (x - center)))\n",
        "\n",
        "# Plotting the membership functions\n",
        "plt.figure(figsize=(10, 6))\n",
        "\n",
        "# Triangular membership function\n",
        "plt.plot(x, triangular_mf(x, 2, 4, 8), label='Triangular MF')\n",
        "\n",
        "# Trapezoidal membership function\n",
        "plt.plot(x, trapezoidal_mf(x, 2, 4, 6, 8), label='Trapezoidal MF')\n",
        "\n",
        "# Gaussian membership function\n",
        "plt.plot(x, gaussian_mf(x, 5, 1), label='Gaussian MF')\n",
        "\n",
        "# Sigmoidal membership function\n",
        "plt.plot(x, sigmoidal_mf(x, 5, 0.5), label='Sigmoidal MF')\n",
        "\n",
        "# Customize plot\n",
        "plt.title('Various Membership Functions')\n",
        "plt.xlabel('Universe of Discourse')\n",
        "plt.ylabel('Membership Value')\n",
        "plt.legend()\n",
        "plt.grid(True)\n",
        "plt.show()\n"
      ],
      "metadata": {
        "colab": {
          "base_uri": "https://localhost:8080/",
          "height": 564
        },
        "id": "zxdoellEBYWU",
        "outputId": "207a3b2b-e96f-42fe-d751-634702ea2a37"
      },
      "execution_count": 16,
      "outputs": [
        {
          "output_type": "display_data",
          "data": {
            "text/plain": [
              "<Figure size 1000x600 with 1 Axes>"
            ],
            "image/png": "[encoded data removed]"
          },
          "metadata": {}
        }
      ]
    },
    {
      "cell_type": "code",
      "source": [
        "# Function to perform union operation\n",
        "def union(set1, set2):\n",
        "    return set1.union(set2)\n",
        "\n",
        "# Function to perform intersection operation\n",
        "def intersection(set1, set2):\n",
        "    return set1.intersection(set2)\n",
        "\n",
        "# Function to perform complement operation\n",
        "def complement(universal_set, set_to_complement):\n",
        "    return universal_set - set_to_complement\n",
        "\n",
        "# Example sets\n",
        "set1 = {1, 2, 3, 4, 5}\n",
        "set2 = {4, 5, 6, 7, 8}\n",
        "universal_set = {1, 2, 3, 4, 5, 6, 7, 8, 9, 10}\n",
        "\n",
        "# Perform operations\n",
        "union_result = union(set1, set2)\n",
        "intersection_result = intersection(set1, set2)\n",
        "complement_set1 = complement(universal_set, set1)\n",
        "complement_set2 = complement(universal_set, set2)\n",
        "\n",
        "# Print results\n",
        "print(\"Union:\", union_result)\n",
        "print(\"Intersection:\", intersection_result)\n",
        "print(\"Complement of set1:\", complement_set1)\n",
        "print(\"Complement of set2:\", complement_set2)\n"
      ],
      "metadata": {
        "colab": {
          "base_uri": "https://localhost:8080/"
        },
        "id": "3Rn9I8-zBza4",
        "outputId": "bf15f799-bc0b-404a-aaa0-a923f1fd618c"
      },
      "execution_count": 17,
      "outputs": [
        {
          "output_type": "stream",
          "name": "stdout",
          "text": [
            "Union: {1, 2, 3, 4, 5, 6, 7, 8}\n",
            "Intersection: {4, 5}\n",
            "Complement of set1: {6, 7, 8, 9, 10}\n",
            "Complement of set2: {1, 2, 3, 9, 10}\n"
          ]
        }
      ]
    }
  ]
}
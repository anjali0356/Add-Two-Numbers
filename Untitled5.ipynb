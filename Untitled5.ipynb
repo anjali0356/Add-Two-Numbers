{
  "nbformat": 4,
  "nbformat_minor": 0,
  "metadata": {
    "colab": {
      "provenance": [],
      "authorship_tag": "ABX9TyNWL4ALOS0a3wecaN90VizK",
      "include_colab_link": true
    },
    "kernelspec": {
      "name": "python3",
      "display_name": "Python 3"
    },
    "language_info": {
      "name": "python"
    }
  },
  "cells": [
    {
      "cell_type": "markdown",
      "metadata": {
        "id": "view-in-github",
        "colab_type": "text"
      },
      "source": [
        "<a href=\"https://colab.research.google.com/github/anjali0356/Add-Two-Numbers/blob/main/Untitled5.ipynb\" target=\"_parent\"><img src=\"https://colab.research.google.com/assets/colab-badge.svg\" alt=\"Open In Colab\"/></a>"
      ]
    },
    {
      "cell_type": "markdown",
      "source": [
        "2nd AI project"
      ],
      "metadata": {
        "id": "Qz9AKT101K2N"
      }
    },
    {
      "cell_type": "markdown",
      "source": [],
      "metadata": {
        "id": "uYssQ0ea1F5A"
      }
    },
    {
      "cell_type": "code",
      "execution_count": 6,
      "metadata": {
        "colab": {
          "base_uri": "https://localhost:8080/"
        },
        "id": "I5g2wJcj1BUd",
        "outputId": "4dd5fe2a-3176-4038-f2d9-25454feeefbd"
      },
      "outputs": [
        {
          "output_type": "stream",
          "name": "stdout",
          "text": [
            "Requirement already satisfied: nltk in /usr/local/lib/python3.12/dist-packages (3.9.1)\n",
            "Requirement already satisfied: click in /usr/local/lib/python3.12/dist-packages (from nltk) (8.3.0)\n",
            "Requirement already satisfied: joblib in /usr/local/lib/python3.12/dist-packages (from nltk) (1.5.2)\n",
            "Requirement already satisfied: regex>=2021.8.3 in /usr/local/lib/python3.12/dist-packages (from nltk) (2024.11.6)\n",
            "Requirement already satisfied: tqdm in /usr/local/lib/python3.12/dist-packages (from nltk) (4.67.1)\n"
          ]
        },
        {
          "output_type": "stream",
          "name": "stderr",
          "text": [
            "[nltk_data] Downloading package punkt to /root/nltk_data...\n",
            "[nltk_data]   Package punkt is already up-to-date!\n",
            "[nltk_data] Downloading package punkt_tab to /root/nltk_data...\n",
            "[nltk_data]   Unzipping tokenizers/punkt_tab.zip.\n",
            "[nltk_data] Downloading package stopwords to /root/nltk_data...\n",
            "[nltk_data]   Package stopwords is already up-to-date!\n"
          ]
        },
        {
          "output_type": "execute_result",
          "data": {
            "text/plain": [
              "True"
            ]
          },
          "metadata": {},
          "execution_count": 6
        }
      ],
      "source": [
        "# Step 1: Install dependencies\n",
        "!pip install nltk\n",
        "import nltk\n",
        "nltk.download('punkt')\n",
        "nltk.download('punkt_tab')   # 👈 Add this line\n",
        "nltk.download('stopwords')\n",
        "\n",
        "\n"
      ]
    },
    {
      "cell_type": "code",
      "source": [
        "\n",
        "import nltk\n",
        "from nltk.corpus import stopwords\n",
        "from nltk.tokenize import word_tokenize, sent_tokenize\n",
        "import heapq\n",
        "\n",
        "# Step 3: Download required data\n",
        "nltk.download('punkt')\n",
        "nltk.download('stopwords')\n",
        "\n",
        "# Step 4: Input text\n",
        "text = \"\"\"Artificial Intelligence (AI) is transforming the world.\n",
        "It is used in self-driving cars, virtual assistants, recommendation systems,\n",
        "and many more areas. AI enables machines to learn from data and make decisions.\n",
        "As technology evolves, AI will continue to shape the future of humanity.\"\"\"\n",
        "\n",
        "# Step 5: Preprocess text\n",
        "stopWords = set(stopwords.words(\"english\"))\n",
        "words = word_tokenize(text)\n",
        "\n",
        "freqTable = dict()\n",
        "for word in words:\n",
        "    word = word.lower()\n",
        "    if word in stopWords:\n",
        "        continue\n",
        "    if word in freqTable:\n",
        "        freqTable[word] += 1\n",
        "    else:\n",
        "        freqTable[word] = 1\n",
        "\n",
        "# Step 6: Score sentences\n",
        "sentences = sent_tokenize(text)\n",
        "sentenceValue = dict()\n",
        "\n",
        "for sentence in sentences:\n",
        "    for word, freq in freqTable.items():\n",
        "        if word in sentence.lower():\n",
        "            if sentence in sentenceValue:\n",
        "                sentenceValue[sentence] += freq\n",
        "            else:\n",
        "                sentenceValue[sentence] = freq\n",
        "\n",
        "# Step 7: Generate summary\n",
        "summary_sentences = heapq.nlargest(2, sentenceValue, key=sentenceValue.get)\n",
        "summary = ' '.join(summary_sentences)\n",
        "\n",
        "print(\"🧾 Original Text:\\n\", text)\n",
        "print(\"\\n✂️ Summary:\\n\", summary)"
      ],
      "metadata": {
        "colab": {
          "base_uri": "https://localhost:8080/"
        },
        "id": "Ep5-yWQl1odj",
        "outputId": "06d7c0f6-f054-4d68-a530-e9d85179fe65"
      },
      "execution_count": 8,
      "outputs": [
        {
          "output_type": "stream",
          "name": "stdout",
          "text": [
            "🧾 Original Text:\n",
            " Artificial Intelligence (AI) is transforming the world. \n",
            "It is used in self-driving cars, virtual assistants, recommendation systems, \n",
            "and many more areas. AI enables machines to learn from data and make decisions. \n",
            "As technology evolves, AI will continue to shape the future of humanity.\n",
            "\n",
            "✂️ Summary:\n",
            " It is used in self-driving cars, virtual assistants, recommendation systems, \n",
            "and many more areas. As technology evolves, AI will continue to shape the future of humanity.\n"
          ]
        },
        {
          "output_type": "stream",
          "name": "stderr",
          "text": [
            "[nltk_data] Downloading package punkt to /root/nltk_data...\n",
            "[nltk_data]   Package punkt is already up-to-date!\n",
            "[nltk_data] Downloading package stopwords to /root/nltk_data...\n",
            "[nltk_data]   Package stopwords is already up-to-date!\n"
          ]
        }
      ]
    }
  ]
}
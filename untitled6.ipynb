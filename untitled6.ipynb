{
  "nbformat": 4,
  "nbformat_minor": 0,
  "metadata": {
    "colab": {
      "provenance": [],
      "toc_visible": true,
      "authorship_tag": "ABX9TyMhnQqXCw0uBQIhYh+UCSs+",
      "include_colab_link": true
    },
    "kernelspec": {
      "name": "python3",
      "display_name": "Python 3"
    },
    "language_info": {
      "name": "python"
    }
  },
  "cells": [
    {
      "cell_type": "markdown",
      "metadata": {
        "id": "view-in-github",
        "colab_type": "text"
      },
      "source": [
        "<a href=\"https://colab.research.google.com/github/anjali0356/Add-Two-Numbers/blob/main/untitled6.ipynb\" target=\"_parent\"><img src=\"https://colab.research.google.com/assets/colab-badge.svg\" alt=\"Open In Colab\"/></a>"
      ]
    },
    {
      "cell_type": "code",
      "execution_count": null,
      "metadata": {
        "colab": {
          "base_uri": "https://localhost:8080/"
        },
        "id": "gNVIqZMC8OGj",
        "outputId": "72b455be-94a7-4d9a-c958-f66061ec406a"
      },
      "outputs": [
        {
          "output_type": "stream",
          "name": "stdout",
          "text": [
            "Testing AND gate perceptron:\n",
            "Input: [0 0], Predicted Output: 0\n",
            "Input: [0 1], Predicted Output: 0\n",
            "Input: [1 0], Predicted Output: 0\n",
            "Input: [1 1], Predicted Output: 1\n"
          ]
        }
      ],
      "source": [
        "import numpy as np\n",
        "\n",
        "class Perceptron:\n",
        "    def __init__(self, input_size, learning_rate=0.1, epochs=100):\n",
        "        self.input_size = input_size\n",
        "        self.learning_rate = learning_rate\n",
        "        self.epochs = epochs\n",
        "        # Initialize weights and bias randomly\n",
        "        self.weights = np.random.rand(input_size)\n",
        "        self.bias = np.random.rand()\n",
        "\n",
        "    def activation_function(self, x):\n",
        "        # Step function\n",
        "        return 1 if x >= 0 else 0\n",
        "\n",
        "    def predict(self, inputs):\n",
        "        # Weighted sum of inputs plus bias\n",
        "        summation = np.dot(inputs, self.weights) + self.bias\n",
        "        # Activation function\n",
        "        return self.activation_function(summation)\n",
        "\n",
        "    def train(self, training_inputs, labels):\n",
        "        for _ in range(self.epochs):\n",
        "            for inputs, label in zip(training_inputs, labels):\n",
        "                prediction = self.predict(inputs)\n",
        "                # Update weights and bias\n",
        "                self.weights += self.learning_rate * (label - prediction) * inputs\n",
        "                self.bias += self.learning_rate * (label - prediction)\n",
        "\n",
        "# AND gate inputs and labels\n",
        "training_inputs = np.array([[0, 0], [0, 1], [1, 0], [1, 1]])\n",
        "labels = np.array([0, 0, 0, 1])\n",
        "\n",
        "# Create a perceptron with 2 inputs (for AND gate) and train it\n",
        "perceptron = Perceptron(input_size=2)\n",
        "perceptron.train(training_inputs, labels)\n",
        "\n",
        "# Test the trained perceptron\n",
        "print(\"Testing AND gate perceptron:\")\n",
        "for inputs in training_inputs:\n",
        "    prediction = perceptron.predict(inputs)\n",
        "    print(f\"Input: {inputs}, Predicted Output: {prediction}\")\n"
      ]
    },
    {
      "cell_type": "markdown",
      "source": [],
      "metadata": {
        "id": "0lI4Xj998xhs"
      }
    },
    {
      "cell_type": "markdown",
      "source": [],
      "metadata": {
        "id": "Ctux3H788xlP"
      }
    },
    {
      "cell_type": "code",
      "source": [
        "import numpy as np\n",
        "\n",
        "class Perceptron:\n",
        "    def __init__(self, num_inputs, learning_rate=0.01, epochs=100):\n",
        "        self.num_inputs = num_inputs\n",
        "        self.learning_rate = learning_rate\n",
        "        self.epochs = epochs\n",
        "        self.weights = np.random.rand(num_inputs)\n",
        "        self.bias = np.random.rand()\n",
        "\n",
        "    def predict(self, inputs):\n",
        "        summation = np.dot(inputs, self.weights) + self.bias\n",
        "        return 1 if summation > 0 else 0\n",
        "\n",
        "    def train(self, training_inputs, labels):\n",
        "        for _ in range(self.epochs):\n",
        "            for inputs, label in zip(training_inputs, labels):\n",
        "                prediction = self.predict(inputs)\n",
        "                error = label - prediction\n",
        "                self.weights += self.learning_rate * error * inputs\n",
        "                self.bias += self.learning_rate * error\n",
        "\n",
        "# OR gate truth table inputs and labels\n",
        "training_inputs = np.array([[0, 0], [0, 1], [1, 0], [1, 1]])\n",
        "labels = np.array([0, 1, 1, 1])\n",
        "\n",
        "# Create and train perceptron\n",
        "perceptron = Perceptron(num_inputs=2)\n",
        "perceptron.train(training_inputs, labels)\n",
        "\n",
        "# Test the trained perceptron\n",
        "print(\"Test predictions:\")\n",
        "for inputs in training_inputs:\n",
        "    prediction = perceptron.predict(inputs)\n",
        "    print(inputs, \"-->\", prediction)\n"
      ],
      "metadata": {
        "colab": {
          "base_uri": "https://localhost:8080/"
        },
        "id": "LL7pZJpV8x-l",
        "outputId": "6ab62fd3-2923-4866-dcb3-bf3ca62a9d50"
      },
      "execution_count": null,
      "outputs": [
        {
          "output_type": "stream",
          "name": "stdout",
          "text": [
            "Test predictions:\n",
            "[0 0] --> 0\n",
            "[0 1] --> 1\n",
            "[1 0] --> 1\n",
            "[1 1] --> 1\n"
          ]
        }
      ]
    },
    {
      "cell_type": "code",
      "source": [
        "import numpy as np\n",
        "\n",
        "class Perceptron:\n",
        "    def __init__(self, input_size, learning_rate=0.1, epochs=100):\n",
        "        self.weights = np.zeros(input_size + 1)\n",
        "        self.learning_rate = learning_rate\n",
        "        self.epochs = epochs\n",
        "\n",
        "    def activation_function(self, x):\n",
        "        return 1 if x >= 0 else 0\n",
        "\n",
        "    def predict(self, inputs):\n",
        "        summation = np.dot(inputs, self.weights[1:]) + self.weights[0]\n",
        "        return self.activation_function(summation)\n",
        "\n",
        "    def train(self, training_inputs, labels):\n",
        "        for _ in range(self.epochs):\n",
        "            for inputs, label in zip(training_inputs, labels):\n",
        "                prediction = self.predict(inputs)\n",
        "                self.weights[1:] += self.learning_rate * (label - prediction) * inputs\n",
        "                self.weights[0] += self.learning_rate * (label - prediction)\n",
        "\n",
        "# NOT gate training data\n",
        "training_inputs = np.array([[0], [1]])\n",
        "labels = np.array([1, 0])\n",
        "\n",
        "# Create a perceptron for the NOT gate\n",
        "perceptron = Perceptron(input_size=1)\n",
        "\n",
        "# Train the perceptron\n",
        "perceptron.train(training_inputs, labels)\n",
        "\n",
        "# Test the trained perceptron\n",
        "test_inputs = np.array([0, 1])\n",
        "for test_input in test_inputs:\n",
        "    output = perceptron.predict(test_input)\n",
        "    print(f\"Input: {test_input}, Output: {output}\")\n"
      ],
      "metadata": {
        "colab": {
          "base_uri": "https://localhost:8080/"
        },
        "id": "RvvlEId89Ff0",
        "outputId": "ed9e3017-a20f-455d-ec4c-8aa0a8bd07c7"
      },
      "execution_count": null,
      "outputs": [
        {
          "output_type": "stream",
          "name": "stdout",
          "text": [
            "Input: 0, Output: 1\n",
            "Input: 1, Output: 0\n"
          ]
        }
      ]
    },
    {
      "cell_type": "code",
      "source": [
        "import numpy as np\n",
        "\n",
        "class Perceptron:\n",
        "    def __init__(self, input_size, lr=1, epochs=1000):\n",
        "        self.W = np.zeros(input_size+1)\n",
        "        # Adding one for bias\n",
        "        self.epochs = epochs\n",
        "        self.lr = lr\n",
        "\n",
        "    def activation_fn(self, x):\n",
        "        return 1 if x >= 0 else 0\n",
        "\n",
        "    def predict(self, x):\n",
        "        x = np.insert(x, 0, 1)\n",
        "        z = self.W.T.dot(x)\n",
        "        a = self.activation_fn(z)\n",
        "        return a\n",
        "\n",
        "    def train(self, X, d):\n",
        "        for _ in range(self.epochs):\n",
        "            for i in range(d.shape[0]):\n",
        "                y = self.predict(X[i])\n",
        "                e = d[i] - y\n",
        "                self.W = self.W + self.lr * e * np.insert(X[i], 0, 1)\n",
        "\n",
        "# Define inputs and labels for XOR gate\n",
        "X = np.array([[0, 0], [0, 1], [1, 0], [1, 1]])\n",
        "d = np.array([0, 1, 1, 0])\n",
        "\n",
        "# Create a Perceptron\n",
        "perceptron = Perceptron(input_size=2)\n",
        "\n",
        "# Train the Perceptron\n",
        "perceptron.train(X, d)\n",
        "\n",
        "# Test the trained Perceptron\n",
        "for i in range(X.shape[0]):\n",
        "    y = perceptron.predict(X[i])\n",
        "    print(\"Input:\", X[i], \"Predicted:\", y)\n"
      ],
      "metadata": {
        "colab": {
          "base_uri": "https://localhost:8080/"
        },
        "id": "3Qxk-oG79vTM",
        "outputId": "75c3ea85-0198-4aa6-8074-3ae397c77992"
      },
      "execution_count": null,
      "outputs": [
        {
          "output_type": "stream",
          "name": "stdout",
          "text": [
            "Input: [0 0] Predicted: 1\n",
            "Input: [0 1] Predicted: 1\n",
            "Input: [1 0] Predicted: 0\n",
            "Input: [1 1] Predicted: 0\n"
          ]
        }
      ]
    }
  ]
}
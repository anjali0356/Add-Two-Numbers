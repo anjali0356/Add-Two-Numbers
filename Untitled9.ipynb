{
  "nbformat": 4,
  "nbformat_minor": 0,
  "metadata": {
    "colab": {
      "provenance": [],
      "toc_visible": true,
      "authorship_tag": "ABX9TyNrZYkOwE7ZE/xc2HlvkpiL",
      "include_colab_link": true
    },
    "kernelspec": {
      "name": "python3",
      "display_name": "Python 3"
    },
    "language_info": {
      "name": "python"
    }
  },
  "cells": [
    {
      "cell_type": "markdown",
      "metadata": {
        "id": "view-in-github",
        "colab_type": "text"
      },
      "source": [
        "<a href=\"https://colab.research.google.com/github/anjali0356/Add-Two-Numbers/blob/main/Untitled9.ipynb\" target=\"_parent\"><img src=\"https://colab.research.google.com/assets/colab-badge.svg\" alt=\"Open In Colab\"/></a>"
      ]
    },
    {
      "cell_type": "code",
      "execution_count": 1,
      "metadata": {
        "colab": {
          "base_uri": "https://localhost:8080/",
          "height": 106
        },
        "id": "XAwFqssICbxp",
        "outputId": "67e0711c-6b5b-456f-d6ea-4c5abada00d3"
      },
      "outputs": [
        {
          "output_type": "error",
          "ename": "SyntaxError",
          "evalue": "unterminated string literal (detected at line 35) (<ipython-input-1-d41df9ba5ca8>, line 35)",
          "traceback": [
            "\u001b[0;36m  File \u001b[0;32m\"<ipython-input-1-d41df9ba5ca8>\"\u001b[0;36m, line \u001b[0;32m35\u001b[0m\n\u001b[0;31m    // For simplicity, let's assume a simple mapping for demonstration\u001b[0m\n\u001b[0m                          ^\u001b[0m\n\u001b[0;31mSyntaxError\u001b[0m\u001b[0;31m:\u001b[0m unterminated string literal (detected at line 35)\n"
          ]
        }
      ],
      "source": [
        "import java.util.Map;\n",
        "\n",
        "public class Diffuzification {\n",
        "\n",
        "    // Function to perform diffuzification\n",
        "    public static double defuzzify(Map<String, Double> membershipValues) {\n",
        "        double numerator = 0.0;\n",
        "        double denominator = 0.0;\n",
        "\n",
        "        // Iterate over each membership value and calculate weighted average\n",
        "        for (Map.Entry<String, Double> entry : membershipValues.entrySet()) {\n",
        "            String linguisticTerm = entry.getKey();\n",
        "            double membershipValue = entry.getValue();\n",
        "\n",
        "            // Assuming linguistic terms have corresponding crisp values\n",
        "            double crispValue = getCorrespondingCrispValue(linguisticTerm);\n",
        "\n",
        "            numerator += crispValue * membershipValue;\n",
        "            denominator += membershipValue;\n",
        "        }\n",
        "\n",
        "        // Avoid division by zero\n",
        "        if (denominator == 0.0) {\n",
        "            return 0.0;\n",
        "        }\n",
        "\n",
        "        // Return the weighted average\n",
        "        return numerator / denominator;\n",
        "    }\n",
        "\n",
        "    // Function to get crisp value corresponding to a linguistic term\n",
        "    private static double getCorrespondingCrispValue(String linguisticTerm) {\n",
        "        // Implement logic to map linguistic terms to crisp values\n",
        "        // This can be done using if-else statements, switch-case, or a lookup table\n",
        "        // For simplicity, let's assume a simple mapping for demonstration\n",
        "        switch (linguisticTerm) {\n",
        "            case \"low\":\n",
        "                return 10.0;\n",
        "            case \"medium\":\n",
        "                return 20.0;\n",
        "            case \"high\":\n",
        "                return 30.0;\n",
        "            default:\n",
        "                return 0.0; // Default value if term not found\n",
        "        }\n",
        "    }\n",
        "\n",
        "    public static void main(String[] args) {\n",
        "        // Example membership values\n",
        "        // Assuming linguistic terms \"low\", \"medium\", \"high\" with corresponding membership values\n",
        "        Map<String, Double> membershipValues = Map.of(\n",
        "            \"low\", 0.3,\n",
        "            \"medium\", 0.7,\n",
        "            \"high\", 0.5\n",
        "        );\n",
        "\n",
        "        // Perform diffuzification\n",
        "        double crispValue = defuzzify(membershipValues);\n",
        "        System.out.println(\"Crisp value after defuzzification: \" + crispValue);\n",
        "    }\n",
        "}\n"
      ]
    },
    {
      "cell_type": "code",
      "source": [
        "public class Defuzzifier {\n",
        "    public static double centerOfGravity(List<Double> membershipValues, List<Double> values) {\n",
        "        double sumX = 0.0;\n",
        "        double sumY = 0.0;\n",
        "\n",
        "        for (int i = 0; i < membershipValues.size(); i++) {\n",
        "            double mu = membershipValues.get(i);\n",
        "            double x = values.get(i);\n",
        "\n",
        "            if (mu > 0) {\n",
        "                sumX += x * mu;\n",
        "                sumY += mu;\n",
        "            }\n",
        "        }\n",
        "\n",
        "        if (sumY == 0.0) {\n",
        "            return 0.0;\n",
        "        }\n",
        "\n",
        "        return sumX / sumY;\n",
        "    }\n",
        "}"
      ],
      "metadata": {
        "colab": {
          "base_uri": "https://localhost:8080/",
          "height": 106
        },
        "id": "t6nFWYBXDXW4",
        "outputId": "bc19350a-9440-47a3-95da-4ab42e03aa85"
      },
      "execution_count": 2,
      "outputs": [
        {
          "output_type": "error",
          "ename": "SyntaxError",
          "evalue": "invalid syntax (<ipython-input-2-c17aaa2f9275>, line 1)",
          "traceback": [
            "\u001b[0;36m  File \u001b[0;32m\"<ipython-input-2-c17aaa2f9275>\"\u001b[0;36m, line \u001b[0;32m1\u001b[0m\n\u001b[0;31m    public class Defuzzifier {\u001b[0m\n\u001b[0m           ^\u001b[0m\n\u001b[0;31mSyntaxError\u001b[0m\u001b[0;31m:\u001b[0m invalid syntax\n"
          ]
        }
      ]
    },
    {
      "cell_type": "code",
      "source": [],
      "metadata": {
        "colab": {
          "base_uri": "https://localhost:8080/",
          "height": 141
        },
        "id": "U7m7gmEODlBO",
        "outputId": "c693e88d-1873-4d5c-b6c8-7d7132b7ec5e"
      },
      "execution_count": 4,
      "outputs": [
        {
          "output_type": "error",
          "ename": "SyntaxError",
          "evalue": "invalid syntax (<ipython-input-4-bbbe4c3d275a>, line 2)",
          "traceback": [
            "\u001b[0;36m  File \u001b[0;32m\"<ipython-input-4-bbbe4c3d275a>\"\u001b[0;36m, line \u001b[0;32m2\u001b[0m\n\u001b[0;31m    def centroid_defuzzification(output_values, membership_values): numerator = np.sum(output_values * membership_values) denominator = np.sum(membership_values)\u001b[0m\n\u001b[0m                                                                                                                          ^\u001b[0m\n\u001b[0;31mSyntaxError\u001b[0m\u001b[0;31m:\u001b[0m invalid syntax\n"
          ]
        }
      ]
    },
    {
      "cell_type": "code",
      "source": [
        "import numpy as np\n",
        "def centroid_defuzzification(output_values, membership_values): numerator = np.sum(output_values * membership_values) denominator = np.sum(membership_values)\n",
        "return numerator / denominator\n",
        "\n",
        "\n",
        "def centre_of_sum_defuzzification(output_values, membership_values):\n",
        "return np.sum(output_values * membership_values) / np.sum(membership_values)\n",
        "\n",
        "\n",
        "def mean_of_maxima_defuzzification(output_values, membership_values): maxima = np.max(membership_values, axis=0)\n",
        "maxima_values = maxima * output_values return np.mean(maxima_values)\n",
        "\n",
        "# Example usage:\n",
        "output_values = np.array([1, 2, 3, 4, 5]) # Fuzzy output values\n",
        "membership_values = np.array([0.2, 0.6, 1.0, 0.8, 0.4]) # Membership values\n",
        "\n",
        "\n",
        "centroid_result = centroid_defuzzification(output_values, membership_values)\n",
        "centre_of_sum_result = centre_of_sum_defuzzification(output_values, membership_values)\n",
        "mean_of_maxima_result = mean_of_maxima_defuzzification(output_values, membership_values)\n",
        "\n",
        "print(f\"Centroid Defuzzification: {centroid_result}\") print(f\"Centre of Sum Defuzzification: {centre_of_sum_result}\")\n",
        "print(f\"Mean of Maxima Defuzzification: {mean_of_maxima_result}\")\n",
        "\n"
      ],
      "metadata": {
        "colab": {
          "base_uri": "https://localhost:8080/",
          "height": 141
        },
        "id": "c_2kZijjDuBr",
        "outputId": "d40353ae-b040-44f3-bea4-1c22f893ff43"
      },
      "execution_count": 5,
      "outputs": [
        {
          "output_type": "error",
          "ename": "SyntaxError",
          "evalue": "invalid syntax (<ipython-input-5-bbbe4c3d275a>, line 2)",
          "traceback": [
            "\u001b[0;36m  File \u001b[0;32m\"<ipython-input-5-bbbe4c3d275a>\"\u001b[0;36m, line \u001b[0;32m2\u001b[0m\n\u001b[0;31m    def centroid_defuzzification(output_values, membership_values): numerator = np.sum(output_values * membership_values) denominator = np.sum(membership_values)\u001b[0m\n\u001b[0m                                                                                                                          ^\u001b[0m\n\u001b[0;31mSyntaxError\u001b[0m\u001b[0;31m:\u001b[0m invalid syntax\n"
          ]
        }
      ]
    },
    {
      "cell_type": "code",
      "source": [
        "def defuzzify(membership_values):\n",
        "    numerator = 0.0\n",
        "    denominator = 0.0\n",
        "\n",
        "    # Iterate over each linguistic term and calculate weighted average\n",
        "    for linguistic_term, membership_value in membership_values.items():\n",
        "        # Assuming linguistic terms have corresponding crisp values\n",
        "        crisp_value = get_corresponding_crisp_value(linguistic_term)\n",
        "        numerator += crisp_value * membership_value\n",
        "        denominator += membership_value\n",
        "\n",
        "    # Avoid division by zero\n",
        "    if denominator == 0.0:\n",
        "        return 0.0\n",
        "\n",
        "    # Return the weighted average\n",
        "    return numerator / denominator\n",
        "\n",
        "# Function to get crisp value corresponding to a linguistic term\n",
        "def get_corresponding_crisp_value(linguistic_term):\n",
        "    # Implement logic to map linguistic terms to crisp values\n",
        "    # This can be done using if-else statements, dictionaries, or lookup tables\n",
        "    # For simplicity, let's assume a simple mapping for demonstration\n",
        "    if linguistic_term == \"low\":\n",
        "        return 10.0\n",
        "    elif linguistic_term == \"medium\":\n",
        "        return 20.0\n",
        "    elif linguistic_term == \"high\":\n",
        "        return 30.0\n",
        "    else:\n",
        "        return 0.0  # Default value if term not found\n",
        "\n",
        "# Example membership values\n",
        "# Assuming linguistic terms \"low\", \"medium\", \"high\" with corresponding membership values\n",
        "membership_values = {\n",
        "    \"low\": 0.3,\n",
        "    \"medium\": 0.7,\n",
        "    \"high\": 0.5\n",
        "}\n",
        "\n",
        "# Perform defuzzification\n",
        "crisp_value = defuzzify(membership_values)\n",
        "print(\"Crisp value after defuzzification:\", crisp_value)\n"
      ],
      "metadata": {
        "colab": {
          "base_uri": "https://localhost:8080/"
        },
        "id": "PaHbWo30D-Pe",
        "outputId": "4232a9b5-a45a-43a4-b70e-39ed572861b0"
      },
      "execution_count": 6,
      "outputs": [
        {
          "output_type": "stream",
          "name": "stdout",
          "text": [
            "Crisp value after defuzzification: 21.333333333333332\n"
          ]
        }
      ]
    }
  ]
}
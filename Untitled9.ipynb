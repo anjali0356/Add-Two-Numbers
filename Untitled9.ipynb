{
  "nbformat": 4,
  "nbformat_minor": 0,
  "metadata": {
    "colab": {
      "provenance": [],
      "toc_visible": true,
      "authorship_tag": "ABX9TyMEpU3hHXxGHEcocgbuP+Vl",
      "include_colab_link": true
    },
    "kernelspec": {
      "name": "python3",
      "display_name": "Python 3"
    },
    "language_info": {
      "name": "python"
    }
  },
  "cells": [
    {
      "cell_type": "markdown",
      "metadata": {
        "id": "view-in-github",
        "colab_type": "text"
      },
      "source": [
        "<a href=\"https://colab.research.google.com/github/anjali0356/Add-Two-Numbers/blob/main/Untitled9.ipynb\" target=\"_parent\"><img src=\"https://colab.research.google.com/assets/colab-badge.svg\" alt=\"Open In Colab\"/></a>"
      ]
    },
    {
      "cell_type": "code",
      "execution_count": 1,
      "metadata": {
        "colab": {
          "base_uri": "https://localhost:8080/",
          "height": 106
        },
        "id": "XAwFqssICbxp",
        "outputId": "67e0711c-6b5b-456f-d6ea-4c5abada00d3"
      },
      "outputs": [
        {
          "output_type": "error",
          "ename": "SyntaxError",
          "evalue": "unterminated string literal (detected at line 35) (<ipython-input-1-d41df9ba5ca8>, line 35)",
          "traceback": [
            "\u001b[0;36m  File \u001b[0;32m\"<ipython-input-1-d41df9ba5ca8>\"\u001b[0;36m, line \u001b[0;32m35\u001b[0m\n\u001b[0;31m    // For simplicity, let's assume a simple mapping for demonstration\u001b[0m\n\u001b[0m                          ^\u001b[0m\n\u001b[0;31mSyntaxError\u001b[0m\u001b[0;31m:\u001b[0m unterminated string literal (detected at line 35)\n"
          ]
        }
      ],
      "source": [
        "\n",
        "\n",
        ""
      ]
    },
    {
      "cell_type": "code",
      "source": [],
      "metadata": {
        "colab": {
          "base_uri": "https://localhost:8080/",
          "height": 106
        },
        "id": "t6nFWYBXDXW4",
        "outputId": "bc19350a-9440-47a3-95da-4ab42e03aa85"
      },
      "execution_count": 2,
      "outputs": [
        {
          "output_type": "error",
          "ename": "SyntaxError",
          "evalue": "invalid syntax (<ipython-input-2-c17aaa2f9275>, line 1)",
          "traceback": [
            "\u001b[0;36m  File \u001b[0;32m\"<ipython-input-2-c17aaa2f9275>\"\u001b[0;36m, line \u001b[0;32m1\u001b[0m\n\u001b[0;31m    public class Defuzzifier {\u001b[0m\n\u001b[0m           ^\u001b[0m\n\u001b[0;31mSyntaxError\u001b[0m\u001b[0;31m:\u001b[0m invalid syntax\n"
          ]
        }
      ]
    },
    {
      "cell_type": "code",
      "source": [],
      "metadata": {
        "colab": {
          "base_uri": "https://localhost:8080/",
          "height": 141
        },
        "id": "U7m7gmEODlBO",
        "outputId": "c693e88d-1873-4d5c-b6c8-7d7132b7ec5e"
      },
      "execution_count": 4,
      "outputs": [
        {
          "output_type": "error",
          "ename": "SyntaxError",
          "evalue": "invalid syntax (<ipython-input-4-bbbe4c3d275a>, line 2)",
          "traceback": [
            "\u001b[0;36m  File \u001b[0;32m\"<ipython-input-4-bbbe4c3d275a>\"\u001b[0;36m, line \u001b[0;32m2\u001b[0m\n\u001b[0;31m    def centroid_defuzzification(output_values, membership_values): numerator = np.sum(output_values * membership_values) denominator = np.sum(membership_values)\u001b[0m\n\u001b[0m                                                                                                                          ^\u001b[0m\n\u001b[0;31mSyntaxError\u001b[0m\u001b[0;31m:\u001b[0m invalid syntax\n"
          ]
        }
      ]
    },
    {
      "cell_type": "code",
      "source": [
        "\n",
        "\n"
      ],
      "metadata": {
        "colab": {
          "base_uri": "https://localhost:8080/",
          "height": 141
        },
        "id": "c_2kZijjDuBr",
        "outputId": "d40353ae-b040-44f3-bea4-1c22f893ff43"
      },
      "execution_count": 5,
      "outputs": [
        {
          "output_type": "error",
          "ename": "SyntaxError",
          "evalue": "invalid syntax (<ipython-input-5-bbbe4c3d275a>, line 2)",
          "traceback": [
            "\u001b[0;36m  File \u001b[0;32m\"<ipython-input-5-bbbe4c3d275a>\"\u001b[0;36m, line \u001b[0;32m2\u001b[0m\n\u001b[0;31m    def centroid_defuzzification(output_values, membership_values): numerator = np.sum(output_values * membership_values) denominator = np.sum(membership_values)\u001b[0m\n\u001b[0m                                                                                                                          ^\u001b[0m\n\u001b[0;31mSyntaxError\u001b[0m\u001b[0;31m:\u001b[0m invalid syntax\n"
          ]
        }
      ]
    },
    {
      "cell_type": "code",
      "source": [
        "def defuzzify(membership_values):\n",
        "    numerator = 0.0\n",
        "    denominator = 0.0\n",
        "\n",
        "    # Iterate over each linguistic term and calculate weighted average\n",
        "    for linguistic_term, membership_value in membership_values.items():\n",
        "        # Assuming linguistic terms have corresponding crisp values\n",
        "        crisp_value = get_corresponding_crisp_value(linguistic_term)\n",
        "        numerator += crisp_value * membership_value\n",
        "        denominator += membership_value\n",
        "\n",
        "    # Avoid division by zero\n",
        "    if denominator == 0.0:\n",
        "        return 0.0\n",
        "\n",
        "    # Return the weighted average\n",
        "    return numerator / denominator\n",
        "\n",
        "# Function to get crisp value corresponding to a linguistic term\n",
        "def get_corresponding_crisp_value(linguistic_term):\n",
        "    # Implement logic to map linguistic terms to crisp values\n",
        "    # This can be done using if-else statements, dictionaries, or lookup tables\n",
        "    # For simplicity, let's assume a simple mapping for demonstration\n",
        "    if linguistic_term == \"low\":\n",
        "        return 10.0\n",
        "    elif linguistic_term == \"medium\":\n",
        "        return 20.0\n",
        "    elif linguistic_term == \"high\":\n",
        "        return 30.0\n",
        "    else:\n",
        "        return 0.0  # Default value if term not found\n",
        "\n",
        "# Example membership values\n",
        "# Assuming linguistic terms \"low\", \"medium\", \"high\" with corresponding membership values\n",
        "membership_values = {\n",
        "    \"low\": 0.3,\n",
        "    \"medium\": 0.7,\n",
        "    \"high\": 0.5\n",
        "}\n",
        "\n",
        "# Perform defuzzification\n",
        "crisp_value = defuzzify(membership_values)\n",
        "print(\"Crisp value after defuzzification:\", crisp_value)\n"
      ],
      "metadata": {
        "colab": {
          "base_uri": "https://localhost:8080/"
        },
        "id": "PaHbWo30D-Pe",
        "outputId": "4232a9b5-a45a-43a4-b70e-39ed572861b0"
      },
      "execution_count": 6,
      "outputs": [
        {
          "output_type": "stream",
          "name": "stdout",
          "text": [
            "Crisp value after defuzzification: 21.333333333333332\n"
          ]
        }
      ]
    }
  ]
}
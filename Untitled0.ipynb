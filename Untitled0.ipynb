{
  "nbformat": 4,
  "nbformat_minor": 0,
  "metadata": {
    "colab": {
      "provenance": [],
      "authorship_tag": "ABX9TyOJ4sSwVseSf+vXMQw2LKwh",
      "include_colab_link": true
    },
    "kernelspec": {
      "name": "python3",
      "display_name": "Python 3"
    },
    "language_info": {
      "name": "python"
    }
  },
  "cells": [
    {
      "cell_type": "markdown",
      "metadata": {
        "id": "view-in-github",
        "colab_type": "text"
      },
      "source": [
        "<a href=\"https://colab.research.google.com/github/anjali0356/Add-Two-Numbers/blob/main/Untitled0.ipynb\" target=\"_parent\"><img src=\"https://colab.research.google.com/assets/colab-badge.svg\" alt=\"Open In Colab\"/></a>"
      ]
    },
    {
      "cell_type": "code",
      "execution_count": null,
      "metadata": {
        "id": "UU-4yFNqMqbh"
      },
      "outputs": [],
      "source": []
    },
    {
      "cell_type": "code",
      "source": [
        "import pandas as pd\n",
        "Data={\"Name\":[\"Peter\", \"Pallavi\", \"Stuti\"],\n",
        "      \"Age\":[23,25,16],\n",
        "      \"Salary\":[20000, 40000, 15000],\n",
        "      \"Post\":[\"manager\", \"HR\", \"Senior Manager\"]}\n",
        "df=pd.DataFrame(Data)\n",
        "print(df)\n",
        "df.describe()\n",
        "df.head(1)\n",
        "df.tail(2)\n",
        "print(df.isnull())\n"
      ],
      "metadata": {
        "colab": {
          "base_uri": "https://localhost:8080/"
        },
        "id": "2bwd7RphQSpk",
        "outputId": "e4509576-7c09-48f6-fa00-9f503976d573"
      },
      "execution_count": null,
      "outputs": [
        {
          "output_type": "stream",
          "name": "stdout",
          "text": [
            "      Name  Age  Salary            Post\n",
            "0    Peter   23   20000         manager\n",
            "1  Pallavi   25   40000              HR\n",
            "2    Stuti   16   15000  Senior Manager\n",
            "    Name    Age  Salary   Post\n",
            "0  False  False   False  False\n",
            "1  False  False   False  False\n",
            "2  False  False   False  False\n"
          ]
        }
      ]
    },
    {
      "cell_type": "code",
      "source": [
        "print(df.isnull().sum())\n",
        "print(df.duplicated())"
      ],
      "metadata": {
        "colab": {
          "base_uri": "https://localhost:8080/"
        },
        "id": "HZxoq1YZYAwy",
        "outputId": "a7761815-c0f9-4e03-d8c3-4792b902dcc1"
      },
      "execution_count": null,
      "outputs": [
        {
          "output_type": "stream",
          "name": "stdout",
          "text": [
            "Name      0\n",
            "Age       0\n",
            "Salary    0\n",
            "Post      0\n",
            "dtype: int64\n",
            "0    False\n",
            "1    False\n",
            "2    False\n",
            "dtype: bool\n"
          ]
        }
      ]
    },
    {
      "cell_type": "code",
      "source": [
        "print(df.dropna())\n",
        "print(df)"
      ],
      "metadata": {
        "colab": {
          "base_uri": "https://localhost:8080/"
        },
        "id": "6HFZPMfHfEoz",
        "outputId": "15d3ddb0-e9e7-4895-d488-a354bf93a126"
      },
      "execution_count": null,
      "outputs": [
        {
          "output_type": "stream",
          "name": "stdout",
          "text": [
            "      Name  Age  Salary            Post\n",
            "0    Peter   23   20000         manager\n",
            "1  Pallavi   25   40000              HR\n",
            "2    Stuti   16   15000  Senior Manager\n",
            "      Name  Age  Salary            Post\n",
            "0    Peter   23   20000         manager\n",
            "1  Pallavi   25   40000              HR\n",
            "2    Stuti   16   15000  Senior Manager\n"
          ]
        }
      ]
    },
    {
      "cell_type": "code",
      "source": [
        "print(df[\"Salary\"].mean())"
      ],
      "metadata": {
        "colab": {
          "base_uri": "https://localhost:8080/"
        },
        "id": "GRU8iKv1hzrV",
        "outputId": "3332a428-ef9c-4b6c-ccb3-5265d4ab99c1"
      },
      "execution_count": null,
      "outputs": [
        {
          "output_type": "stream",
          "name": "stdout",
          "text": [
            "25000.0\n"
          ]
        }
      ]
    },
    {
      "cell_type": "code",
      "source": [
        "print(df[\"Salary\"].min())\n",
        "print(df[\"Salary\"].max())"
      ],
      "metadata": {
        "colab": {
          "base_uri": "https://localhost:8080/"
        },
        "id": "dK_0CmVGiIKh",
        "outputId": "208abda7-e183-4c39-bc6b-35f20fe4bb62"
      },
      "execution_count": null,
      "outputs": [
        {
          "output_type": "stream",
          "name": "stdout",
          "text": [
            "15000\n",
            "40000\n"
          ]
        }
      ]
    }
  ]
}
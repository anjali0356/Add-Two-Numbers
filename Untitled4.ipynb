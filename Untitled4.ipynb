{
  "nbformat": 4,
  "nbformat_minor": 0,
  "metadata": {
    "colab": {
      "provenance": [],
      "authorship_tag": "ABX9TyNrAMH913PwuKNTTFPG5D+E",
      "include_colab_link": true
    },
    "kernelspec": {
      "name": "python3",
      "display_name": "Python 3"
    },
    "language_info": {
      "name": "python"
    }
  },
  "cells": [
    {
      "cell_type": "markdown",
      "metadata": {
        "id": "view-in-github",
        "colab_type": "text"
      },
      "source": [
        "<a href=\"https://colab.research.google.com/github/anjali0356/Add-Two-Numbers/blob/main/Untitled4.ipynb\" target=\"_parent\"><img src=\"https://colab.research.google.com/assets/colab-badge.svg\" alt=\"Open In Colab\"/></a>"
      ]
    },
    {
      "cell_type": "markdown",
      "source": [
        "AI Chatbot Poject"
      ],
      "metadata": {
        "id": "eQBndcEVv9k0"
      }
    },
    {
      "cell_type": "markdown",
      "source": [],
      "metadata": {
        "id": "ZYt0MdDwv8Y4"
      }
    },
    {
      "cell_type": "code",
      "execution_count": 10,
      "metadata": {
        "colab": {
          "base_uri": "https://localhost:8080/"
        },
        "id": "HHL_9X23uEgh",
        "outputId": "47eb20a1-3651-42cb-ea6f-686dffbbfe72"
      },
      "outputs": [
        {
          "output_type": "stream",
          "name": "stdout",
          "text": [
            "Requirement already satisfied: nltk in /usr/local/lib/python3.12/dist-packages (3.9.1)\n",
            "Requirement already satisfied: click in /usr/local/lib/python3.12/dist-packages (from nltk) (8.3.0)\n",
            "Requirement already satisfied: joblib in /usr/local/lib/python3.12/dist-packages (from nltk) (1.5.2)\n",
            "Requirement already satisfied: regex>=2021.8.3 in /usr/local/lib/python3.12/dist-packages (from nltk) (2024.11.6)\n",
            "Requirement already satisfied: tqdm in /usr/local/lib/python3.12/dist-packages (from nltk) (4.67.1)\n"
          ]
        }
      ],
      "source": [
        "!pip install nltk\n",
        "\n",
        "\n",
        "\n"
      ]
    },
    {
      "cell_type": "code",
      "source": [
        "import nltk\n",
        "from nltk.chat.util import Chat, reflections\n",
        "\n",
        "# Download NLTK data (only first time)\n",
        "nltk.download('punkt', quiet=True)\n",
        "\n",
        "# ------------------------------\n",
        "# 🗣️ Define patterns & responses\n",
        "# ------------------------------\n",
        "pairs = [\n",
        "    [\n",
        "        r\"hi|hello|hey\",\n",
        "        [\"Hello! 👋\", \"Hey there!\", \"Hi! How can I help you?\"]\n",
        "    ],\n",
        "    [\n",
        "        r\"what is your name?\",\n",
        "        [\"I’m your AI Assistant.\", \"You can call me SmartBot 🤖\"]\n",
        "    ],\n",
        "    [\n",
        "        r\"how are you?\",\n",
        "        [\"I’m doing great! Thanks for asking.\", \"Feeling awesome, how about you?\"]\n",
        "    ],\n",
        "    [\n",
        "        r\"what can you do?\",\n",
        "        [\"I can chat with you, answer simple questions, and make your day better!\"]\n",
        "    ],\n",
        "    [\n",
        "        r\"who created you?\",\n",
        "        [\"I was created by a Python developer using NLTK library 😄\"]\n",
        "    ],\n",
        "    [\n",
        "        r\"bye|exit|quit\",\n",
        "        [\"Goodbye! Have a great day! 👋\", \"Bye! Take care.\"]\n",
        "    ],\n",
        "    [\n",
        "        r\"(.*)\",\n",
        "        [\"Sorry, I didn’t understand that. Can you rephrase?\"]\n",
        "    ]\n",
        "]\n",
        "\n",
        "# ------------------------------\n",
        "# 🤖 Initialize chatbot\n",
        "# ------------------------------\n",
        "chatbot = Chat(pairs, reflections)\n",
        "\n",
        "# ------------------------------\n",
        "# 🚀 Start chatting\n",
        "# ------------------------------\n",
        "print(\"🤖 SmartBot: Hello! Type 'bye' to exit.\")\n",
        "while True:\n",
        "    user_input = input(\"You: \")\n",
        "    if user_input.lower() in [\"bye\", \"exit\", \"quit\"]:\n",
        "        print(\"🤖 SmartBot: Goodbye! 👋\")\n",
        "        break\n",
        "    response = chatbot.respond(user_input)\n",
        "    print(\"🤖 SmartBot:\", response)\n"
      ],
      "metadata": {
        "colab": {
          "base_uri": "https://localhost:8080/"
        },
        "id": "JAIcyyYKvDuu",
        "outputId": "ac7f8e86-a021-4d38-b6c5-75adb550b63d"
      },
      "execution_count": null,
      "outputs": [
        {
          "output_type": "stream",
          "name": "stdout",
          "text": [
            "🤖 SmartBot: Hello! Type 'bye' to exit.\n",
            "You: hi\n",
            "🤖 SmartBot: Hey there!\n",
            "You: please keep smiling\n",
            "🤖 SmartBot: Sorry, I didn’t understand that. Can you rephrase?\n"
          ]
        }
      ]
    },
    {
      "cell_type": "code",
      "source": [],
      "metadata": {
        "id": "4hrdzm8EvhFs"
      },
      "execution_count": 9,
      "outputs": []
    },
    {
      "cell_type": "code",
      "source": [],
      "metadata": {
        "id": "ZiTgfb2DuVUt"
      },
      "execution_count": 4,
      "outputs": []
    },
    {
      "cell_type": "markdown",
      "source": [
        "ChatBot"
      ],
      "metadata": {
        "id": "PIxDVzpfv252"
      }
    }
  ]
}